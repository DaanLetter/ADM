{
 "cells": [
  {
   "cell_type": "code",
   "execution_count": 3,
   "metadata": {},
   "outputs": [],
   "source": [
    "import numpy as np\n",
    "import matplotlib.pyplot as plt\n",
    "import scipy\n",
    "from scipy.sparse import csc_matrix\n",
    "from scipy.sparse import csr_matrix"
   ]
  },
  {
   "cell_type": "code",
   "execution_count": 22,
   "metadata": {},
   "outputs": [
    {
     "name": "stdout",
     "output_type": "stream",
     "text": [
      "626\n",
      "65225506\n",
      "[17764    30    84 ... 17622 17627 17764]\n",
      "[[     1     30      3]\n",
      " [     1    157      3]\n",
      " [     1    173      4]\n",
      " ...\n",
      " [103703  17622      2]\n",
      " [103703  17627      4]\n",
      " [103703  17764      4]]\n"
     ]
    }
   ],
   "source": [
    "file  = np.load('user_movie_rating.npy')\n",
    "user_id = file[:,0]\n",
    "movie_id = file[:,1]\n",
    "rating = file[:,2]\n",
    "\n",
    "count_ones = np.sum(user_id == 1)\n",
    "count_twos = np.sum(user_id == 2)\n",
    "print(count_ones)\n",
    "\n",
    "similarity_threshold = 0.5\n",
    "print(len(movie_id))\n",
    "print(movie_id[count_ones+count_twos-1:])\n",
    "print(file)"
   ]
  },
  {
   "cell_type": "code",
   "execution_count": null,
   "metadata": {},
   "outputs": [],
   "source": [
    "#create a sparse matrix of the user-movie rating, where the movies that recieved a rating get a 1 and the ones that did not get a rating get a 0\n",
    "#We assume from the assignment that we only care about movies that were rated but not the actual ratings. Thus giving a binary matrix\n",
    "\n",
    "def create_matrix(file):\n",
    "    user_id = file[:,0]\n",
    "    movie_id = file[:,1]\n",
    "    rating = file[:,2]\n",
    "    data = np.ones(len(rating))\n",
    "    user_movie_matrix = csc_matrix((data, (movie_id, user_id))) #heb movie en user omgedraaid, omdat we de users als colommen willen hebben\n",
    "    return user_movie_matrix"
   ]
  },
  {
   "cell_type": "code",
   "execution_count": null,
   "metadata": {},
   "outputs": [
    {
     "name": "stdout",
     "output_type": "stream",
     "text": [
      "[[0. 1. 0.]\n",
      " [0. 0. 0.]\n",
      " [1. 1. 1.]\n",
      " [0. 0. 0.]]\n"
     ]
    }
   ],
   "source": [
    "user_movie_matrix = create_matrix(file)\n",
    "#delete the first row and column since they are empty\n",
    "user_movie_matrix = user_movie_matrix[1:,1:]\n",
    "# print(user_movie_matrix)\n",
    "# print(user_movie_matrix.shape)\n",
    "\n",
    "print(user_movie_matrix.toarray()[27:31,0:3]) #to see the axes of the matrix"
   ]
  },
  {
   "cell_type": "markdown",
   "metadata": {},
   "source": [
    "Note: Ik heb nu de binary matrix getransposed om de de users als kolommen en movies als rijen willen."
   ]
  },
  {
   "cell_type": "code",
   "execution_count": null,
   "metadata": {},
   "outputs": [],
   "source": [
    "#make a minhash function for the csc matrix, I realise now that a csr matrix might have been more efficient\n",
    "def minhash(data, num_permutations):\n",
    "    if not isinstance(data, csc_matrix):\n",
    "        raise ValueError(\"Input data must be a scipy.sparse CSC matrix.\")\n",
    "    \n",
    "    num_movies = data.shape[1]  # Number of columns (features)\n",
    "    num_users = data.shape[0]   # Number of rows (samples)\n",
    "    \n",
    "    # Create random permutations\n",
    "    permutations = [np.random.permutation(num_movies) for _ in range(num_permutations)]\n",
    "    perm_signature = np.full((num_users, num_permutations), np.inf)\n",
    "    \n",
    "    # Iterate over columns (movies/features) of the CSC matrix\n",
    "    for movie_index in range(num_movies):\n",
    "        # Get all non-zero row indices for the current column\n",
    "        row_indices = data.indices[data.indptr[movie_index]:data.indptr[movie_index + 1]]\n",
    "        \n",
    "        for k in range(num_permutations):\n",
    "            # Compute the hash value for the current column (movie_index)\n",
    "            hash_value = permutations[k][movie_index]\n",
    "            \n",
    "            # Update the MinHash signature for the rows with non-zero values in this column\n",
    "            for row_index in row_indices:\n",
    "                perm_signature[row_index, k] = min(perm_signature[row_index, k], hash_value)\n",
    "\n",
    "    return perm_signature#.transpose()\n",
    "\n"
   ]
  },
  {
   "cell_type": "code",
   "execution_count": null,
   "metadata": {},
   "outputs": [
    {
     "ename": "KeyboardInterrupt",
     "evalue": "",
     "output_type": "error",
     "traceback": [
      "\u001b[1;31m---------------------------------------------------------------------------\u001b[0m",
      "\u001b[1;31mKeyboardInterrupt\u001b[0m                         Traceback (most recent call last)",
      "Cell \u001b[1;32mIn[40], line 1\u001b[0m\n\u001b[1;32m----> 1\u001b[0m testhash \u001b[38;5;241m=\u001b[39m minhash(user_movie_matrix, \u001b[38;5;241m100\u001b[39m)\n\u001b[0;32m      3\u001b[0m \u001b[38;5;66;03m# #save the minhash signature to a file\u001b[39;00m\n\u001b[0;32m      4\u001b[0m np\u001b[38;5;241m.\u001b[39msave(\u001b[38;5;124m'\u001b[39m\u001b[38;5;124mminhash.npy\u001b[39m\u001b[38;5;124m'\u001b[39m, testhash)\n",
      "Cell \u001b[1;32mIn[35], line 24\u001b[0m, in \u001b[0;36mminhash\u001b[1;34m(data, num_permutations)\u001b[0m\n\u001b[0;32m     22\u001b[0m         \u001b[38;5;66;03m# Update the MinHash signature for the rows with non-zero values in this column\u001b[39;00m\n\u001b[0;32m     23\u001b[0m         \u001b[38;5;28;01mfor\u001b[39;00m row_index \u001b[38;5;129;01min\u001b[39;00m row_indices:\n\u001b[1;32m---> 24\u001b[0m             perm_signature[row_index, k] \u001b[38;5;241m=\u001b[39m \u001b[38;5;28mmin\u001b[39m(perm_signature[row_index, k], hash_value)\n\u001b[0;32m     26\u001b[0m \u001b[38;5;28;01mreturn\u001b[39;00m perm_signature\u001b[38;5;241m.\u001b[39mtranspose()\n",
      "\u001b[1;31mKeyboardInterrupt\u001b[0m: "
     ]
    }
   ],
   "source": [
    "testhash = minhash(user_movie_matrix, 100)\n",
    "\n",
    "# #save the minhash signature to a file\n",
    "np.save('minhash_transposed.npy', testhash)\n",
    "testhash = np.load('minhash_transposed.npy')\n",
    "print(testhash)\n",
    "print(testhash.shape)\n"
   ]
  },
  {
   "cell_type": "code",
   "execution_count": 38,
   "metadata": {},
   "outputs": [
    {
     "name": "stdout",
     "output_type": "stream",
     "text": [
      "[[ 54.  40.  40. ...  40.  16.  40.]\n",
      " [ 32.   9.   9. ...  23.  13.  32.]\n",
      " [ 30.  92.  11. ... 514.  92. 200.]\n",
      " ...\n",
      " [  4.   3.   3. ...   3.   3.   3.]\n",
      " [  7.   7.  10. ... 139.  31. 227.]\n",
      " [  6.   6.  27. ...  48.  71.  62.]]\n",
      "(100, 103703)\n"
     ]
    }
   ],
   "source": [
    "print(testhash)\n",
    "print(testhash.shape)"
   ]
  },
  {
   "cell_type": "code",
   "execution_count": null,
   "metadata": {},
   "outputs": [
    {
     "name": "stdout",
     "output_type": "stream",
     "text": [
      "[ 54.  32.  30.  44.  31.  33.  16.   4. 106.   1.   1.   6.  65.  19.\n",
      "  27.  42.  93.  12.   9.   5.  23.   3.   8.  10.   3.  14.   6.  23.\n",
      "  54.  10.   3.  98.   9.  78.  10.   5.  17.  34.  11.  16.   2.  17.\n",
      "  12.  17.   5.  23.  99.  13.  10.   6.   6.  19.   7.  28.  20.  28.\n",
      "  40.   5.  14.  15.   3.  12.   2.  32.   1.  10.  41.  82.  96.  25.\n",
      "  16.  62.  30.  15.  21.  10.  10.  46.  83.  12.  20.  75.   1.  13.\n",
      "  20.  18.  66.  12.  10.  21.  16.  23.   8.  64.  42.  23.  89.   4.\n",
      "   7.   6.]\n"
     ]
    }
   ],
   "source": [
    "#print the first column from the user_movie_matrix, so for the first person\n",
    "print(user_movie_matrix[0,:])\n",
    "print(testhash[:,0])"
   ]
  },
  {
   "cell_type": "code",
   "execution_count": null,
   "metadata": {},
   "outputs": [],
   "source": [
    "def jaccard_similarity(signature1, signature2):\n",
    "    return np.sum(signature1 == signature2) / np.sum(signature1 != np.inf)\n",
    "\n",
    "def lsh(signatures, num_hashes, similarity_threshold):\n",
    "    num_bands = 50\n",
    "    band_size = num_hashes // num_bands\n",
    "\n",
    "    buckets = {}\n",
    "    for user_id, signature in enumerate(signatures):\n",
    "        for band in range(num_bands):\n",
    "            # Group the portion of the signature belonging to this band\n",
    "            band_hash = tuple(signature[band * band_size:(band + 1) * band_size])\n",
    "            if band_hash not in buckets:\n",
    "                buckets[band_hash] = []\n",
    "            buckets[band_hash].append(user_id)\n",
    "\n",
    "    candidate_pairs = set()\n",
    "    for bucket_users in buckets.values():\n",
    "        for i in range(len(bucket_users)):\n",
    "            for j in range(i + 1, len(bucket_users)):\n",
    "                candidate_pairs.add((bucket_users[i], bucket_users[j]))\n",
    "    \n",
    "    similar_users = []\n",
    "    for user1, user2 in candidate_pairs:\n",
    "        sim = jaccard_similarity(signatures[user1], signatures[user2])\n",
    "        if sim >= similarity_threshold:\n",
    "            similar_users.append((user1, user2))\n",
    "\n",
    "    return similar_users"
   ]
  },
  {
   "cell_type": "code",
   "execution_count": null,
   "metadata": {},
   "outputs": [
    {
     "name": "stdout",
     "output_type": "stream",
     "text": [
      "[(25, 25), (59, 59), (0, 0), (92, 92), (33, 33), (66, 66), (7, 7), (99, 99), (40, 40), (73, 73), (14, 14), (47, 47), (80, 80), (21, 21), (54, 54), (13, 13), (87, 87), (46, 46), (28, 28), (61, 61), (20, 20), (2, 2), (94, 94), (35, 35), (68, 68), (9, 9), (42, 42), (75, 75), (34, 34), (16, 16), (67, 67), (49, 49), (8, 8), (82, 82), (41, 41), (23, 23), (74, 74), (56, 56), (15, 15), (89, 89), (48, 48), (30, 30), (81, 81), (22, 22), (55, 55), (63, 63), (88, 88), (70, 70), (29, 29), (62, 62), (44, 44), (3, 3), (95, 95), (36, 36), (96, 96), (18, 18), (69, 69), (10, 10), (43, 43), (76, 76), (77, 77), (51, 51), (17, 17), (50, 50), (83, 83), (24, 24), (84, 84), (57, 57), (58, 58), (90, 90), (31, 31), (91, 91), (32, 32), (64, 64), (5, 5), (65, 65), (97, 97), (6, 6), (98, 98), (39, 39), (72, 72), (4, 4), (38, 38), (11, 11), (71, 71), (12, 12), (45, 45), (78, 78), (19, 19), (79, 79), (52, 52), (85, 85), (53, 53), (26, 26), (86, 86), (27, 27), (60, 60), (1, 1), (93, 93)]\n"
     ]
    }
   ],
   "source": [
    "similar_users = lsh(testhash, 100, 0.5)\n",
    "print(similar_users)\n",
    "\n",
    "#todo check what exactly the numbers are, are they the user id's or movie id's or what are they and why are they the same number.\n",
    "# It could have something to do with the fact that when I ran this code I had not yet transposed the minhash signature,\n",
    "# so the users and movies were switched."
   ]
  },
  {
   "cell_type": "code",
   "execution_count": 49,
   "metadata": {},
   "outputs": [
    {
     "name": "stdout",
     "output_type": "stream",
     "text": [
      "99\n"
     ]
    }
   ],
   "source": [
    "print(len(similar_users))"
   ]
  }
 ],
 "metadata": {
  "kernelspec": {
   "display_name": "base",
   "language": "python",
   "name": "python3"
  },
  "language_info": {
   "codemirror_mode": {
    "name": "ipython",
    "version": 3
   },
   "file_extension": ".py",
   "mimetype": "text/x-python",
   "name": "python",
   "nbconvert_exporter": "python",
   "pygments_lexer": "ipython3",
   "version": "3.12.7"
  }
 },
 "nbformat": 4,
 "nbformat_minor": 2
}
