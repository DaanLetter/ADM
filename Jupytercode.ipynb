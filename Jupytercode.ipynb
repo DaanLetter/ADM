{
 "cells": [
  {
   "cell_type": "code",
   "execution_count": 4,
   "metadata": {},
   "outputs": [],
   "source": [
    "import numpy as np\n",
    "import matplotlib.pyplot as plt\n",
    "import scipy\n",
    "from scipy.sparse import csc_matrix\n",
    "from scipy.sparse import csr_matrix\n",
    "import hashlib\n",
    "from collections import defaultdict\n",
    "from itertools import combinations\n"
   ]
  },
  {
   "cell_type": "code",
   "execution_count": 5,
   "metadata": {},
   "outputs": [
    {
     "name": "stdout",
     "output_type": "stream",
     "text": [
      "626\n",
      "65225506\n",
      "[17764    30    84 ... 17622 17627 17764]\n",
      "[[     1     30      3]\n",
      " [     1    157      3]\n",
      " [     1    173      4]\n",
      " ...\n",
      " [103703  17622      2]\n",
      " [103703  17627      4]\n",
      " [103703  17764      4]]\n"
     ]
    }
   ],
   "source": [
    "file  = np.load('user_movie_rating.npy')\n",
    "user_id = file[:,0]\n",
    "movie_id = file[:,1]\n",
    "rating = file[:,2]\n",
    "\n",
    "count_ones = np.sum(user_id == 1)\n",
    "count_twos = np.sum(user_id == 2)\n",
    "print(count_ones)\n",
    "\n",
    "similarity_threshold = 0.5\n",
    "print(len(movie_id))\n",
    "print(movie_id[count_ones+count_twos-1:])\n",
    "print(file)"
   ]
  },
  {
   "cell_type": "code",
   "execution_count": 44,
   "metadata": {},
   "outputs": [],
   "source": [
    "#create a sparse matrix of the user-movie rating, where the movies that recieved a rating get a 1 and the ones that did not get a rating get a 0\n",
    "#We assume from the assignment that we only care about movies that were rated but not the actual ratings. Thus giving a binary matrix\n",
    "\n",
    "def create_matrix(file):\n",
    "    user_id = file[:,0]\n",
    "    movie_id = file[:,1]\n",
    "    rating = file[:,2]\n",
    "    data = np.ones(len(rating))\n",
    "    user_movie_matrix = csc_matrix((data, (movie_id, user_id))) #heb movie en user omgedraaid, omdat we de users als colommen willen hebben\n",
    "    return user_movie_matrix"
   ]
  },
  {
   "cell_type": "code",
   "execution_count": 45,
   "metadata": {},
   "outputs": [
    {
     "name": "stdout",
     "output_type": "stream",
     "text": [
      "[[0. 1. 0.]\n",
      " [0. 0. 0.]\n",
      " [1. 1. 1.]\n",
      " [0. 0. 0.]]\n"
     ]
    }
   ],
   "source": [
    "user_movie_matrix = create_matrix(file)\n",
    "#delete the first row and column since they are empty\n",
    "user_movie_matrix = user_movie_matrix[1:,1:]\n",
    "# print(user_movie_matrix)\n",
    "# print(user_movie_matrix.shape)\n",
    "\n",
    "print(user_movie_matrix.toarray()[27:31,0:3]) #to see the axes of the matrix"
   ]
  },
  {
   "cell_type": "markdown",
   "metadata": {},
   "source": [
    "Note: Ik heb nu de binary matrix getransposed om de de users als kolommen en movies als rijen willen."
   ]
  },
  {
   "cell_type": "code",
   "execution_count": 5,
   "metadata": {},
   "outputs": [],
   "source": [
    "#make a minhash function for the csc matrix, I realise now that a csr matrix might have been more efficient\n",
    "def minhash(data, num_permutations):\n",
    "    if not isinstance(data, csc_matrix):\n",
    "        raise ValueError(\"Input data must be a scipy.sparse CSC matrix.\")\n",
    "    \n",
    "    num_movies = data.shape[1]  # Number of columns (features)\n",
    "    num_users = data.shape[0]   # Number of rows (samples)\n",
    "    \n",
    "    # Create random permutations\n",
    "    permutations = [np.random.permutation(num_movies) for _ in range(num_permutations)]\n",
    "    perm_signature = np.full((num_users, num_permutations), np.inf)\n",
    "    \n",
    "    # Iterate over columns (movies/features) of the CSC matrix\n",
    "    for movie_index in range(num_movies):\n",
    "        # Get all non-zero row indices for the current column\n",
    "        row_indices = data.indices[data.indptr[movie_index]:data.indptr[movie_index + 1]]\n",
    "        \n",
    "        for k in range(num_permutations):\n",
    "            # Compute the hash value for the current column (movie_index)\n",
    "            hash_value = permutations[k][movie_index]\n",
    "            \n",
    "            # Update the MinHash signature for the rows with non-zero values in this column\n",
    "            for row_index in row_indices:\n",
    "                perm_signature[row_index, k] = min(perm_signature[row_index, k], hash_value)\n",
    "\n",
    "    return perm_signature\n",
    "\n"
   ]
  },
  {
   "cell_type": "code",
   "execution_count": null,
   "metadata": {},
   "outputs": [
    {
     "name": "stdout",
     "output_type": "stream",
     "text": [
      "[[2.430e+02 6.200e+01 6.200e+01 ... 6.480e+02 1.070e+02 6.190e+02]\n",
      " [9.320e+02 2.167e+03 6.200e+01 ... 2.658e+03 1.209e+03 1.688e+03]\n",
      " [9.000e+01 9.000e+00 2.000e+00 ... 1.500e+01 1.200e+01 3.300e+01]\n",
      " ...\n",
      " [1.800e+02 1.030e+02 1.040e+02 ... 6.700e+01 4.500e+01 1.740e+02]\n",
      " [6.000e+00 2.500e+01 1.100e+01 ... 5.500e+01 3.000e+01 5.900e+01]\n",
      " [5.200e+01 4.330e+02 2.940e+02 ... 2.200e+01 1.700e+02 1.980e+02]]\n",
      "(17770, 100)\n",
      "(100, 103703)\n"
     ]
    }
   ],
   "source": [
    "hash = minhash(user_movie_matrix, 100)\n",
    "np.save('minhash_2.npy', hash)\n",
    "\n",
    "# #save the minhash signature to a file\n",
    "#np.save('minhash_transposed.npy', testhash)\n",
    "testhash = np.load('minhash_transposed.npy')\n",
    "testh = np.load('minhash.npy')\n",
    "print(testhash)\n",
    "print(testhash.shape)\n",
    "print(testh.shape)\n"
   ]
  },
  {
   "cell_type": "code",
   "execution_count": 41,
   "metadata": {},
   "outputs": [
    {
     "name": "stdout",
     "output_type": "stream",
     "text": [
      "[[2.430e+02 6.200e+01 6.200e+01 ... 6.480e+02 1.070e+02 6.190e+02]\n",
      " [9.320e+02 2.167e+03 6.200e+01 ... 2.658e+03 1.209e+03 1.688e+03]\n",
      " [9.000e+01 9.000e+00 2.000e+00 ... 1.500e+01 1.200e+01 3.300e+01]\n",
      " ...\n",
      " [1.800e+02 1.030e+02 1.040e+02 ... 6.700e+01 4.500e+01 1.740e+02]\n",
      " [6.000e+00 2.500e+01 1.100e+01 ... 5.500e+01 3.000e+01 5.900e+01]\n",
      " [5.200e+01 4.330e+02 2.940e+02 ... 2.200e+01 1.700e+02 1.980e+02]]\n",
      "(17770, 100)\n",
      "<class 'numpy.ndarray'>\n"
     ]
    },
    {
     "data": {
      "image/png": "[encoded data removed]",
      "text/plain": [
       "<Figure size 640x480 with 1 Axes>"
      ]
     },
     "metadata": {},
     "output_type": "display_data"
    }
   ],
   "source": [
    "print(testhash)\n",
    "print(testhash.shape)\n",
    "print(type(testhash))\n",
    "#show that the matrix has 100 columns and 17770 rows as i always forget which is which lol\n",
    "#meaning columns are the users and rows are the permutations\n",
    "#the rows typically refer to the first axis (axis 0), and the columns refer to the second axis (axis 1). \n",
    "\n",
    "plt.spy(testhash, markersize=1)\n",
    "plt.xlim(0, 200)\n",
    "plt.ylim(0, 200)\n",
    "plt.show()"
   ]
  },
  {
   "cell_type": "code",
   "execution_count": 8,
   "metadata": {},
   "outputs": [
    {
     "ename": "NameError",
     "evalue": "name 'user_movie_matrix' is not defined",
     "output_type": "error",
     "traceback": [
      "\u001b[1;31m---------------------------------------------------------------------------\u001b[0m",
      "\u001b[1;31mNameError\u001b[0m                                 Traceback (most recent call last)",
      "Cell \u001b[1;32mIn[8], line 2\u001b[0m\n\u001b[0;32m      1\u001b[0m \u001b[38;5;66;03m#print the first colum from the user_movie_matrix, so for the first person\u001b[39;00m\n\u001b[1;32m----> 2\u001b[0m \u001b[38;5;28mprint\u001b[39m(user_movie_matrix[\u001b[38;5;241m0\u001b[39m,:])\n\u001b[0;32m      3\u001b[0m \u001b[38;5;28mprint\u001b[39m(testhash[:,\u001b[38;5;241m0\u001b[39m])\n",
      "\u001b[1;31mNameError\u001b[0m: name 'user_movie_matrix' is not defined"
     ]
    }
   ],
   "source": [
    "#print the first colum from the user_movie_matrix, so for the first person\n",
    "print(user_movie_matrix[0,:])\n",
    "print(testhash[:,0])"
   ]
  },
  {
   "cell_type": "code",
   "execution_count": null,
   "metadata": {},
   "outputs": [],
   "source": [
    "\n",
    "\n",
    "# def lsh(signatures, num_hashes, similarity_threshold):\n",
    "#     num_bands = 50\n",
    "#     band_size = num_hashes // num_bands\n",
    "\n",
    "#     buckets = {}\n",
    "#     for user_id, signature in enumerate(signatures):\n",
    "#         for band in range(num_bands):\n",
    "#             band_hash = tuple(signature[band * band_size:(band + 1) * band_size])\n",
    "#             if band_hash not in buckets:\n",
    "#                 buckets[band_hash] = []\n",
    "#             buckets[band_hash].append(user_id)\n",
    "    \n",
    "#     print(f'Amount of buckets: {len(buckets)}')\n",
    "    \n",
    "#     candidate_pairs = set()\n",
    "#     for bucket_users in buckets.values():\n",
    "#         for i in range(len(bucket_users)):\n",
    "#             for j in range(i + 1, len(bucket_users)):\n",
    "#                 candidate_pairs.add((bucket_users[i], bucket_users[j]))\n",
    "    \n",
    "#     print(f'Candidate pairs: {len(candidate_pairs)}')\n",
    "    \n",
    "#     similar_users = []\n",
    "#     for user1, user2 in candidate_pairs:\n",
    "#         if user1 == user2:\n",
    "#             continue\n",
    "#         sim = jaccard_similarity(signatures[user1], signatures[user2])\n",
    "#         if sim >= similarity_threshold:\n",
    "#             similar_users.append((user1, user2))\n",
    "    \n",
    "#     print(f'Similar users: {len(similar_users)}')\n",
    "#     return similar_users"
   ]
  },
  {
   "cell_type": "code",
   "execution_count": null,
   "metadata": {},
   "outputs": [],
   "source": [
    "# def hash_with_hashlib(row, num_buckets):\n",
    "#     # Convert row to a string representation\n",
    "#     row_str = \",\".join(map(str, row))\n",
    "#     # Hash the string using hashlib\n",
    "#     hash_object = hashlib.sha256(row_str.encode())\n",
    "#     # Convert hash to an integer\n",
    "#     hash_int = int(hash_object.hexdigest(), 16)\n",
    "#     # Map to a bucket\n",
    "#     return hash_int % num_buckets\n",
    "\n",
    "# def LocalSH(signatures, num_bands, num_buckets, similarity_threshold):\n",
    "#     #first we split the matrix into bands , we need to make sure that the number of bands times the number of rows per band is equal to the number of rows in the signature matrix\n",
    "#     if signatures.shape[1] % num_bands != 0:\n",
    "#         raise ValueError(\"The number of columns must be divisible by m for exact band splitting.\")\n",
    "\n",
    "#     bands = np.split(signatures, num_bands, axis=1) #split the signature array along the second axis (colums)\n",
    "#     print(f'# values in each band: {bands[0].shape[1]}')\n",
    "\n",
    "#     #we will use hashlib to get a unique hash for each band\n",
    "\n",
    "#     bucket_table = []\n",
    "#     for band in enumerate(bands):\n",
    "#         buckets = defaultdict(list)\n",
    "\n",
    "#         for i, row in enumerate(band):\n",
    "#             bucket = hash_with_hashlib(band, num_buckets)\n",
    "#             buckets[bucket].append(i)\n",
    "#         bucket_table.append(buckets)\n",
    "#         #this should give us a table with the buckets for each band\n",
    "#     for bucket, rows in bucket_table[0].items():\n",
    "#         print(f'Bucket {bucket}: {rows}')\n",
    "\n",
    "\n",
    "\n"
   ]
  },
  {
   "cell_type": "code",
   "execution_count": 20,
   "metadata": {},
   "outputs": [],
   "source": [
    "#define functions to use in the LSH function\n",
    "\n",
    "\n",
    "def jaccard_similarity(signature1, signature2):\n",
    "    \n",
    "    #returns the jaccard similarity between two signatures\n",
    "\n",
    "    return np.sum(signature1 == signature2) / np.sum(signature1 != np.inf)\n",
    "\n",
    "def split_vector(signature, num_bands):\n",
    "\n",
    "    #split the signature matrux in to bands\n",
    "\n",
    "    column_size = signature.shape[0] // num_bands\n",
    "\n",
    "    #validate that the number of columns is divisible by the number of bands\n",
    "\n",
    "    if signature.shape[1] % num_bands != 0:\n",
    "        raise ValueError(f\"The number of columns {signature.shape[0]} must be divisible by the number of bands {num_bands} for exact band splitting.\")\n",
    "    \n",
    "    split_arrays = np.hsplit(signature, signature.shape[0]//column_size)\n",
    "    print([sub_array.shape for sub_array in split_arrays])\n",
    "    return split_arrays\n",
    "\n",
    "\n",
    "def Hash_band(column, num_buckets):\n",
    "    #convert the array to a string and hash it\n",
    "    column_str = \",\".join(map(str, column))\n",
    "    return hash(column_str) % num_buckets\n",
    "\n",
    "def LSH(signature, num_bands, num_buckets, similarity_threshold):\n",
    "\n",
    "    #split the signature matrix into bands\n",
    "    split_arrays = split_vector(signature, num_bands)\n",
    "    #create a dictionary for the buckets\n",
    "    hashbucketdict = {}\n",
    "\n",
    "    #populate the dictionary with the bucket its hashed in for each band\n",
    "    for i in range(len(split_arrays)):\n",
    "        hashbucketdict[f'hash{i}'] = np.apply_along_axis(Hash_band, 1, split_arrays[i], num_buckets=num_buckets)\n",
    "    \n",
    "    #create a dictionary to store the indices of the buckets\n",
    "  \n",
    "\n",
    "    #populate the dictionary with the entire hashbucketdict\n",
    "    for i in range(len(split_arrays)):\n",
    "        bucket_groups = defaultdict(list)\n",
    "        for idx, bucket in enumerate(hashbucketdict[f'hash{i}']):\n",
    "            bucket_groups[bucket].append(idx)\n",
    "    #filter out any bucket with only a single index occupying it\n",
    "    filtered_buckets = {bucket: indices for bucket, indices in bucket_groups.items() if len(indices) > 1 }\n",
    "    print(f'the amount of buckets with multiple values: {len(filtered_buckets)}')\n",
    "\n",
    "    #create a dictionary to store the jaccard similarity between the users\n",
    "    jaccard_similarity_dict = {}\n",
    "\n",
    "    #iterate over the filtered buckets and calculate the jaccard similarity between the users\n",
    "    for bucket, indices in filtered_buckets.items():\n",
    "\n",
    "        #get all possible combinations of the indices in the bucket and calculate the jaccard similarity\n",
    "        for set1, set2 in combinations(indices, 2):\n",
    "            similarity = jaccard_similarity(signature[set1,:], signature[set2,:])\n",
    "\n",
    "            #allow only similarities higher than the set threshold to be stored\n",
    "            if similarity > similarity_threshold:\n",
    "                jaccard_similarity_dict[f'users: {set1}, {set2}'] = similarity\n",
    "\n",
    "    return jaccard_similarity_dict\n",
    "\n"
   ]
  },
  {
   "cell_type": "code",
   "execution_count": 37,
   "metadata": {},
   "outputs": [
    {
     "name": "stdout",
     "output_type": "stream",
     "text": [
      "[(17770, 10), (17770, 10), (17770, 10), (17770, 10), (17770, 10), (17770, 10), (17770, 10), (17770, 10), (17770, 10), (17770, 10)]\n",
      "the amount of buckets with multiple values: 500\n"
     ]
    }
   ],
   "source": [
    "jaccard_dict = LSH(testhash, 10, 500, 0.5)"
   ]
  },
  {
   "cell_type": "code",
   "execution_count": 36,
   "metadata": {},
   "outputs": [
    {
     "data": {
      "text/plain": [
       "59"
      ]
     },
     "execution_count": 36,
     "metadata": {},
     "output_type": "execute_result"
    }
   ],
   "source": [
    "len(jaccard_dict)"
   ]
  },
  {
   "cell_type": "code",
   "execution_count": null,
   "metadata": {},
   "outputs": [],
   "source": []
  }
 ],
 "metadata": {
  "kernelspec": {
   "display_name": "base",
   "language": "python",
   "name": "python3"
  },
  "language_info": {
   "codemirror_mode": {
    "name": "ipython",
    "version": 3
   },
   "file_extension": ".py",
   "mimetype": "text/x-python",
   "name": "python",
   "nbconvert_exporter": "python",
   "pygments_lexer": "ipython3",
   "version": "3.12.7"
  }
 },
 "nbformat": 4,
 "nbformat_minor": 2
}
