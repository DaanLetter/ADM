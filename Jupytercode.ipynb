{
 "cells": [
  {
   "cell_type": "code",
   "execution_count": 1,
   "metadata": {},
   "outputs": [],
   "source": [
    "import numpy as np\n",
    "import matplotlib.pyplot as plt\n",
    "import scipy\n",
    "from scipy.sparse import csc_matrix\n",
    "from scipy.sparse import csr_matrix"
   ]
  },
  {
   "cell_type": "code",
   "execution_count": 2,
   "metadata": {},
   "outputs": [
    {
     "name": "stdout",
     "output_type": "stream",
     "text": [
      "65225506\n"
     ]
    }
   ],
   "source": [
    "file  = np.load('user_movie_rating.npy')\n",
    "user_id = file[:,0]\n",
    "movie_id = file[:,1]\n",
    "rating = file[:,2]\n",
    "\n",
    "similarity_threshold = 0.5\n",
    "print(len(movie_id))"
   ]
  },
  {
   "cell_type": "code",
   "execution_count": 3,
   "metadata": {},
   "outputs": [],
   "source": [
    "#create a sparse matrix of the user-movie rating, where the movies that recieved a rating get a 1 and the ones that did not get a rating get a 0\n",
    "#We assume from the assignment that we only care about movies that were rated but not the actual ratings. Thus giving a binary matrix\n",
    "\n",
    "def create_matrix(file):\n",
    "    user_id = file[:,0]\n",
    "    movie_id = file[:,1]\n",
    "    rating = file[:,2]\n",
    "    data = np.ones(len(rating))\n",
    "    user_movie_matrix = csc_matrix((data, (user_id, movie_id)))\n",
    "    return user_movie_matrix"
   ]
  },
  {
   "cell_type": "code",
   "execution_count": 4,
   "metadata": {},
   "outputs": [
    {
     "name": "stdout",
     "output_type": "stream",
     "text": [
      "  (94, 0)\t1.0\n",
      "  (154, 0)\t1.0\n",
      "  (440, 0)\t1.0\n",
      "  (574, 0)\t1.0\n",
      "  (852, 0)\t1.0\n",
      "  (1188, 0)\t1.0\n",
      "  (1214, 0)\t1.0\n",
      "  (1263, 0)\t1.0\n",
      "  (1498, 0)\t1.0\n",
      "  (1716, 0)\t1.0\n",
      "  (1717, 0)\t1.0\n",
      "  (1802, 0)\t1.0\n",
      "  (2180, 0)\t1.0\n",
      "  (2325, 0)\t1.0\n",
      "  (2680, 0)\t1.0\n",
      "  (3399, 0)\t1.0\n",
      "  (3669, 0)\t1.0\n",
      "  (3689, 0)\t1.0\n",
      "  (3880, 0)\t1.0\n",
      "  (4755, 0)\t1.0\n",
      "  (4798, 0)\t1.0\n",
      "  (5267, 0)\t1.0\n",
      "  (5690, 0)\t1.0\n",
      "  (5883, 0)\t1.0\n",
      "  (6741, 0)\t1.0\n",
      "  :\t:\n",
      "  (100303, 17769)\t1.0\n",
      "  (100390, 17769)\t1.0\n",
      "  (100506, 17769)\t1.0\n",
      "  (100559, 17769)\t1.0\n",
      "  (100609, 17769)\t1.0\n",
      "  (100663, 17769)\t1.0\n",
      "  (100665, 17769)\t1.0\n",
      "  (100700, 17769)\t1.0\n",
      "  (100719, 17769)\t1.0\n",
      "  (100730, 17769)\t1.0\n",
      "  (100763, 17769)\t1.0\n",
      "  (101075, 17769)\t1.0\n",
      "  (101297, 17769)\t1.0\n",
      "  (101858, 17769)\t1.0\n",
      "  (101922, 17769)\t1.0\n",
      "  (102016, 17769)\t1.0\n",
      "  (102036, 17769)\t1.0\n",
      "  (102106, 17769)\t1.0\n",
      "  (102255, 17769)\t1.0\n",
      "  (102579, 17769)\t1.0\n",
      "  (103054, 17769)\t1.0\n",
      "  (103107, 17769)\t1.0\n",
      "  (103343, 17769)\t1.0\n",
      "  (103381, 17769)\t1.0\n",
      "  (103441, 17769)\t1.0\n",
      "(103703, 17770)\n"
     ]
    }
   ],
   "source": [
    "user_movie_matrix = create_matrix(file)\n",
    "#delete the first row and column since they are empty\n",
    "user_movie_matrix = user_movie_matrix[1:,1:]\n",
    "print(user_movie_matrix)\n",
    "print(user_movie_matrix.shape)"
   ]
  },
  {
   "cell_type": "code",
   "execution_count": 5,
   "metadata": {},
   "outputs": [],
   "source": [
    "#make a minhash function for the csc matrix, I realise now that a csr matrix might have been more efficient\n",
    "def minhash(data, num_permutations):\n",
    "    if not isinstance(data, csc_matrix):\n",
    "        raise ValueError(\"Input data must be a scipy.sparse CSC matrix.\")\n",
    "    \n",
    "    num_movies = data.shape[1]  # Number of columns (features)\n",
    "    num_users = data.shape[0]   # Number of rows (samples)\n",
    "    \n",
    "    # Create random permutations\n",
    "    permutations = [np.random.permutation(num_movies) for _ in range(num_permutations)]\n",
    "    perm_signature = np.full((num_users, num_permutations), np.inf)\n",
    "    \n",
    "    # Iterate over columns (movies/features) of the CSC matrix\n",
    "    for movie_index in range(num_movies):\n",
    "        # Get all non-zero row indices for the current column\n",
    "        row_indices = data.indices[data.indptr[movie_index]:data.indptr[movie_index + 1]]\n",
    "        \n",
    "        for k in range(num_permutations):\n",
    "            # Compute the hash value for the current column (movie_index)\n",
    "            hash_value = permutations[k][movie_index]\n",
    "            \n",
    "            # Update the MinHash signature for the rows with non-zero values in this column\n",
    "            for row_index in row_indices:\n",
    "                perm_signature[row_index, k] = min(perm_signature[row_index, k], hash_value)\n",
    "\n",
    "    return perm_signature.transpose()\n",
    "\n"
   ]
  },
  {
   "cell_type": "code",
   "execution_count": null,
   "metadata": {},
   "outputs": [],
   "source": [
    "# testhash = minhash(user_movie_matrix, 100)\n",
    "\n",
    "# #save the minhash signature to a file\n",
    "# np.save('minhash.npy', testhash)\n",
    "testhash = np.load('minhash.npy')"
   ]
  },
  {
   "cell_type": "code",
   "execution_count": 7,
   "metadata": {},
   "outputs": [
    {
     "name": "stdout",
     "output_type": "stream",
     "text": [
      "[[ 54.  40.  40. ...  40.  16.  40.]\n",
      " [ 32.   9.   9. ...  23.  13.  32.]\n",
      " [ 30.  92.  11. ... 514.  92. 200.]\n",
      " ...\n",
      " [  4.   3.   3. ...   3.   3.   3.]\n",
      " [  7.   7.  10. ... 139.  31. 227.]\n",
      " [  6.   6.  27. ...  48.  71.  62.]]\n"
     ]
    }
   ],
   "source": [
    "print(testhash)"
   ]
  },
  {
   "cell_type": "code",
   "execution_count": 30,
   "metadata": {},
   "outputs": [
    {
     "name": "stdout",
     "output_type": "stream",
     "text": [
      "\n",
      "[inf inf inf]\n"
     ]
    }
   ],
   "source": [
    "#print the first column from the user_movie_matrix, so for the first person\n",
    "print(user_movie_matrix[0,:])\n",
    "print(testhash[:,0])"
   ]
  },
  {
   "cell_type": "code",
   "execution_count": null,
   "metadata": {},
   "outputs": [],
   "source": []
  }
 ],
 "metadata": {
  "kernelspec": {
   "display_name": "base",
   "language": "python",
   "name": "python3"
  },
  "language_info": {
   "codemirror_mode": {
    "name": "ipython",
    "version": 3
   },
   "file_extension": ".py",
   "mimetype": "text/x-python",
   "name": "python",
   "nbconvert_exporter": "python",
   "pygments_lexer": "ipython3",
   "version": "3.11.5"
  }
 },
 "nbformat": 4,
 "nbformat_minor": 2
}
