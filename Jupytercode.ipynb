{
 "cells": [
  {
   "cell_type": "code",
   "execution_count": 32,
   "metadata": {},
   "outputs": [],
   "source": [
    "import numpy as np\n",
    "import matplotlib.pyplot as plt\n",
    "import scipy\n",
    "from scipy.sparse import csc_matrix\n",
    "from scipy.sparse import csr_matrix"
   ]
  },
  {
   "cell_type": "code",
   "execution_count": 42,
   "metadata": {},
   "outputs": [
    {
     "name": "stdout",
     "output_type": "stream",
     "text": [
      "65225506\n"
     ]
    }
   ],
   "source": [
    "file  = np.load('user_movie_rating.npy')\n",
    "user_id = file[:,0]\n",
    "movie_id = file[:,1]\n",
    "rating = file[:,2]\n",
    "\n",
    "similarity_threshold = 0.5\n",
    "print(len(movie_id))"
   ]
  },
  {
   "cell_type": "code",
   "execution_count": null,
   "metadata": {},
   "outputs": [],
   "source": [
    "#create a sparse matrix of the user-movie rating, where the movies that recieved a rating get a 1 and the ones that did not get a rating get a 0\n",
    "#We assume from the assignment that we only care about movies that were rated but not the actual ratings. Thus giving a binary matrix\n",
    "\n",
    "def create_matrix(file):\n",
    "    user_id = file[:,0]\n",
    "    movie_id = file[:,1]\n",
    "    rating = file[:,2]\n",
    "    data = np.ones(len(rating))\n",
    "    user_movie_matrix = csc_matrix((data, (user_id, movie_id)))\n",
    "    return user_movie_matrix"
   ]
  },
  {
   "cell_type": "code",
   "execution_count": 67,
   "metadata": {},
   "outputs": [
    {
     "name": "stdout",
     "output_type": "stream",
     "text": [
      "  (95, 1)\t1.0\n",
      "  (155, 1)\t1.0\n",
      "  (441, 1)\t1.0\n",
      "  (575, 1)\t1.0\n",
      "  (853, 1)\t1.0\n",
      "  (1189, 1)\t1.0\n",
      "  (1215, 1)\t1.0\n",
      "  (1264, 1)\t1.0\n",
      "  (1499, 1)\t1.0\n",
      "  (1717, 1)\t1.0\n",
      "  (1718, 1)\t1.0\n",
      "  (1803, 1)\t1.0\n",
      "  (2181, 1)\t1.0\n",
      "  (2326, 1)\t1.0\n",
      "  (2681, 1)\t1.0\n",
      "  (3400, 1)\t1.0\n",
      "  (3670, 1)\t1.0\n",
      "  (3690, 1)\t1.0\n",
      "  (3881, 1)\t1.0\n",
      "  (4756, 1)\t1.0\n",
      "  (4799, 1)\t1.0\n",
      "  (5268, 1)\t1.0\n",
      "  (5691, 1)\t1.0\n",
      "  (5884, 1)\t1.0\n",
      "  (6742, 1)\t1.0\n",
      "  :\t:\n",
      "  (100304, 17770)\t1.0\n",
      "  (100391, 17770)\t1.0\n",
      "  (100507, 17770)\t1.0\n",
      "  (100560, 17770)\t1.0\n",
      "  (100610, 17770)\t1.0\n",
      "  (100664, 17770)\t1.0\n",
      "  (100666, 17770)\t1.0\n",
      "  (100701, 17770)\t1.0\n",
      "  (100720, 17770)\t1.0\n",
      "  (100731, 17770)\t1.0\n",
      "  (100764, 17770)\t1.0\n",
      "  (101076, 17770)\t1.0\n",
      "  (101298, 17770)\t1.0\n",
      "  (101859, 17770)\t1.0\n",
      "  (101923, 17770)\t1.0\n",
      "  (102017, 17770)\t1.0\n",
      "  (102037, 17770)\t1.0\n",
      "  (102107, 17770)\t1.0\n",
      "  (102256, 17770)\t1.0\n",
      "  (102580, 17770)\t1.0\n",
      "  (103055, 17770)\t1.0\n",
      "  (103108, 17770)\t1.0\n",
      "  (103344, 17770)\t1.0\n",
      "  (103382, 17770)\t1.0\n",
      "  (103442, 17770)\t1.0\n"
     ]
    }
   ],
   "source": [
    "user_movie_matrix = create_matrix(file)\n",
    "print(user_movie_matrix)"
   ]
  },
  {
   "cell_type": "code",
   "execution_count": null,
   "metadata": {},
   "outputs": [
    {
     "data": {
      "text/plain": [
       "0.0"
      ]
     },
     "execution_count": 70,
     "metadata": {},
     "output_type": "execute_result"
    }
   ],
   "source": [
    "#now we will be implementing the minhashing techique without using the hash function but using random permutations of the rows of the matrix\n",
    "#We will be using 100 permutations\n"
   ]
  },
  {
   "cell_type": "code",
   "execution_count": null,
   "metadata": {},
   "outputs": [],
   "source": []
  }
 ],
 "metadata": {
  "kernelspec": {
   "display_name": "base",
   "language": "python",
   "name": "python3"
  },
  "language_info": {
   "codemirror_mode": {
    "name": "ipython",
    "version": 3
   },
   "file_extension": ".py",
   "mimetype": "text/x-python",
   "name": "python",
   "nbconvert_exporter": "python",
   "pygments_lexer": "ipython3",
   "version": "3.8.5"
  }
 },
 "nbformat": 4,
 "nbformat_minor": 2
}
